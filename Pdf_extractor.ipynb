{
  "nbformat": 4,
  "nbformat_minor": 0,
  "metadata": {
    "colab": {
      "name": "Pdf_extractor.ipynb",
      "provenance": [],
      "authorship_tag": "ABX9TyPbnvhsUPvTowZh+2KGjH/n",
      "include_colab_link": true
    },
    "kernelspec": {
      "name": "python3",
      "display_name": "Python 3"
    },
    "language_info": {
      "name": "python"
    }
  },
  "cells": [
    {
      "cell_type": "markdown",
      "metadata": {
        "id": "view-in-github",
        "colab_type": "text"
      },
      "source": [
        "<a href=\"https://colab.research.google.com/github/devivek/database_extraction/blob/main/Pdf_extractor.ipynb\" target=\"_parent\"><img src=\"https://colab.research.google.com/assets/colab-badge.svg\" alt=\"Open In Colab\"/></a>"
      ]
    },
    {
      "cell_type": "code",
      "execution_count": 1,
      "metadata": {
        "colab": {
          "base_uri": "https://localhost:8080/"
        },
        "id": "7Y3DRQvRWGvC",
        "outputId": "198c10d1-9908-498b-e726-ae032963b45f"
      },
      "outputs": [
        {
          "output_type": "stream",
          "name": "stdout",
          "text": [
            "Mounted at /content/gdrive/\n"
          ]
        }
      ],
      "source": [
        "from google.colab import drive\n",
        "drive.mount('/content/gdrive/')"
      ]
    },
    {
      "cell_type": "code",
      "source": [
        "%cd ../"
      ],
      "metadata": {
        "colab": {
          "base_uri": "https://localhost:8080/"
        },
        "id": "kKFy-VirdNyC",
        "outputId": "b6d9768d-8842-4b5b-d819-cb14dcdddc0f"
      },
      "execution_count": 2,
      "outputs": [
        {
          "output_type": "stream",
          "name": "stdout",
          "text": [
            "/\n"
          ]
        }
      ]
    },
    {
      "cell_type": "code",
      "source": [
        "%ls"
      ],
      "metadata": {
        "colab": {
          "base_uri": "https://localhost:8080/"
        },
        "id": "GNsR9_k4dAIV",
        "outputId": "a7043ad6-ea74-47fd-8c58-e198f6a05060"
      },
      "execution_count": 3,
      "outputs": [
        {
          "output_type": "stream",
          "name": "stdout",
          "text": [
            "\u001b[0m\u001b[01;34mbin\u001b[0m/      \u001b[01;34mdev\u001b[0m/   \u001b[01;34mlib32\u001b[0m/  \u001b[01;34mopt\u001b[0m/         \u001b[01;34mrun\u001b[0m/   \u001b[01;34mtensorflow-1.15.2\u001b[0m/  \u001b[01;34mvar\u001b[0m/\n",
            "\u001b[01;34mboot\u001b[0m/     \u001b[01;34metc\u001b[0m/   \u001b[01;34mlib64\u001b[0m/  \u001b[01;34mproc\u001b[0m/        \u001b[01;34msbin\u001b[0m/  \u001b[30;42mtmp\u001b[0m/\n",
            "\u001b[01;34mcontent\u001b[0m/  \u001b[01;34mhome\u001b[0m/  \u001b[01;34mmedia\u001b[0m/  \u001b[01;34mpython-apt\u001b[0m/  \u001b[01;34msrv\u001b[0m/   \u001b[01;34mtools\u001b[0m/\n",
            "\u001b[01;34mdatalab\u001b[0m/  \u001b[01;34mlib\u001b[0m/   \u001b[01;34mmnt\u001b[0m/    \u001b[01;34mroot\u001b[0m/        \u001b[01;34msys\u001b[0m/   \u001b[01;34musr\u001b[0m/\n"
          ]
        }
      ]
    },
    {
      "cell_type": "code",
      "source": [
        "%cd  /content/gdrive/My Drive/ML Project/Pdf reader"
      ],
      "metadata": {
        "colab": {
          "base_uri": "https://localhost:8080/"
        },
        "id": "l16ENgnwdWKN",
        "outputId": "93b8487b-91fb-4202-a5ff-80b351573dd6"
      },
      "execution_count": 4,
      "outputs": [
        {
          "output_type": "stream",
          "name": "stdout",
          "text": [
            "/content/gdrive/My Drive/ML Project/Pdf reader\n"
          ]
        }
      ]
    },
    {
      "cell_type": "code",
      "source": [
        "!pip3 install PyPDF2"
      ],
      "metadata": {
        "colab": {
          "base_uri": "https://localhost:8080/"
        },
        "id": "rMvxQDbTXqLp",
        "outputId": "d13048e2-1329-48fb-8f1b-123ef178f21e"
      },
      "execution_count": 5,
      "outputs": [
        {
          "output_type": "stream",
          "name": "stdout",
          "text": [
            "Looking in indexes: https://pypi.org/simple, https://us-python.pkg.dev/colab-wheels/public/simple/\n",
            "Collecting PyPDF2\n",
            "  Downloading PyPDF2-2.8.0-py3-none-any.whl (204 kB)\n",
            "\u001b[K     |████████████████████████████████| 204 kB 5.3 MB/s \n",
            "\u001b[?25hRequirement already satisfied: typing-extensions in /usr/local/lib/python3.7/dist-packages (from PyPDF2) (4.1.1)\n",
            "Installing collected packages: PyPDF2\n",
            "Successfully installed PyPDF2-2.8.0\n"
          ]
        }
      ]
    },
    {
      "cell_type": "code",
      "source": [
        "import PyPDF2 as py"
      ],
      "metadata": {
        "id": "cnlU_fgMXHDT"
      },
      "execution_count": 6,
      "outputs": []
    },
    {
      "cell_type": "code",
      "source": [
        "a=py.PdfReader(\"JEE-Main-1st-Sep-2021-Shift-2-Physics-Embibe.pdf\")"
      ],
      "metadata": {
        "id": "GMnmlXtrXJ7l"
      },
      "execution_count": 7,
      "outputs": []
    },
    {
      "cell_type": "code",
      "source": [
        "a=py.PdfReader(\"synopsis (1).pdf\")"
      ],
      "metadata": {
        "id": "olMqpwlIe3K2"
      },
      "execution_count": 12,
      "outputs": []
    },
    {
      "cell_type": "code",
      "source": [
        "a.documentInfo"
      ],
      "metadata": {
        "colab": {
          "base_uri": "https://localhost:8080/"
        },
        "id": "mbm9D-_Wd9kw",
        "outputId": "3a0fcde5-1c3a-4d94-82be-d5add0d385e6"
      },
      "execution_count": 13,
      "outputs": [
        {
          "output_type": "execute_result",
          "data": {
            "text/plain": [
              "{'/Author': 'Harshwardhan Bondia',\n",
              " '/Comments': '',\n",
              " '/Company': '',\n",
              " '/CreationDate': \"D:20200514124816+07'18'\",\n",
              " '/Creator': 'WPS Writer',\n",
              " '/Keywords': '',\n",
              " '/ModDate': \"D:20200514124816+07'18'\",\n",
              " '/Producer': '',\n",
              " '/SourceModified': \"D:20200514124816+07'18'\",\n",
              " '/Subject': '',\n",
              " '/Title': '',\n",
              " '/Trapped': '/False'}"
            ]
          },
          "metadata": {},
          "execution_count": 13
        }
      ]
    },
    {
      "cell_type": "code",
      "source": [
        "a.getNumPages()"
      ],
      "metadata": {
        "colab": {
          "base_uri": "https://localhost:8080/"
        },
        "id": "e-dPGcw7eD9J",
        "outputId": "a51436b0-139a-42ef-fb70-183cc02a1e37"
      },
      "execution_count": 8,
      "outputs": [
        {
          "output_type": "execute_result",
          "data": {
            "text/plain": [
              "12"
            ]
          },
          "metadata": {},
          "execution_count": 8
        }
      ]
    },
    {
      "cell_type": "code",
      "source": [
        "str=a.getPage(0).extractText()"
      ],
      "metadata": {
        "id": "6FkzxHa-eMew"
      },
      "execution_count": 11,
      "outputs": []
    },
    {
      "cell_type": "code",
      "source": [
        "print(str)"
      ],
      "metadata": {
        "colab": {
          "base_uri": "https://localhost:8080/"
        },
        "id": "2-rhxMfcekgw",
        "outputId": "446d4025-3c09-484c-dac1-63851a34daeb"
      },
      "execution_count": 12,
      "outputs": [
        {
          "output_type": "stream",
          "name": "stdout",
          "text": [
            " \n",
            " JEE Main 2021 September 1 Shift 2 Physics  \n",
            " \n",
            "1. Temperature of three moles of monoatomic gas is increased by 400 K under isobaric condition. If the ratio of work \n",
            "done by gas and increase in internal energy is given as 10\n",
            "𝑥. Find x.  \n",
            "(A) 25 \n",
            "(B) 5 \n",
            "(C) 15 \n",
            "(D) 30 \n",
            "Correct option: (C)  \n",
            "Solution:  𝑊\n",
            "𝛥∪=𝑛𝑅𝛥𝑇\n",
            "3\n",
            "2𝑛𝑅𝛥𝑇=2\n",
            "3=10\n",
            "15 \n",
            "So 𝑥=15 \n",
            " \n",
            "2. The speed of the ball after being released from height ‘ℎ’ is 0.8√𝑔ℎ. Calculate the work done by the resistance of \n",
            "air. Use 𝑔=10 m/s2. Assume mass of the ball be 𝑚. \n",
            "(A) −6.8 𝑚ℎ \n",
            "(B) 8.6 𝑚ℎ \n",
            "(C) −8.6 𝑚ℎ \n",
            "(D) 6.8 𝑚ℎ \n",
            "Correct option: (A)  \n",
            "Solution:  Using Work energy theorem:  \n",
            "𝑊𝑓+𝑊𝑔=1\n",
            "2𝑚2−0  \n",
            "𝑊𝑓=−𝑚𝑔ℎ+1\n",
            "2𝑚(.8)2𝑔ℎ =−𝑚𝑔ℎ+0.32 𝑚𝑔ℎ=−𝑚𝑔ℎ(0.68)=−6.8 𝑚ℎ \n",
            " \n",
            "3. Potential energy versus displacement graph of a block of mass 5 kg oscillating on a planet is as shown below. The \n",
            "time period of oscillation of given block is same as time period of simple pendulum of length 4 m on this planet. \n",
            "Calculate the value of gravitational field at the surface of planet.  \n",
            " \n",
            " \n",
            "(A) 4 \n",
            "(B) 6 \n",
            "(C) 8 \n",
            "(D) 10 \n",
            "Correct option:  (A) \n",
            "Solution:  \n",
            "From the figure, amplitude of oscillatio n of block is 𝐴=2 𝑚 \n",
            "Potential energy of the block is 1\n",
            "2𝑚𝜔2𝐴2=10  \n",
            "1\n",
            "2𝑚𝜔2(2)2=10  \n",
            "𝑚𝜔2=5 \n",
            "\n"
          ]
        }
      ]
    },
    {
      "cell_type": "code",
      "source": [
        ""
      ],
      "metadata": {
        "id": "l-iX8yLZe3Th"
      },
      "execution_count": null,
      "outputs": []
    },
    {
      "cell_type": "code",
      "source": [
        "!pip3 install PyMuPDF"
      ],
      "metadata": {
        "colab": {
          "base_uri": "https://localhost:8080/"
        },
        "id": "1gR8JceEhFrG",
        "outputId": "43a827fe-69ff-45cd-a5ec-58bac1115d8c"
      },
      "execution_count": 20,
      "outputs": [
        {
          "output_type": "stream",
          "name": "stdout",
          "text": [
            "Looking in indexes: https://pypi.org/simple, https://us-python.pkg.dev/colab-wheels/public/simple/\n",
            "Requirement already satisfied: PyMuPDF in /usr/local/lib/python3.7/dist-packages (1.20.1)\n"
          ]
        }
      ]
    },
    {
      "cell_type": "code",
      "source": [
        "import PyMuPDF "
      ],
      "metadata": {
        "colab": {
          "base_uri": "https://localhost:8080/",
          "height": 305
        },
        "id": "vanTjBzchSHu",
        "outputId": "bc011886-d0b4-476f-c3a6-521d10a69891"
      },
      "execution_count": 21,
      "outputs": [
        {
          "output_type": "error",
          "ename": "ModuleNotFoundError",
          "evalue": "ignored",
          "traceback": [
            "\u001b[0;31m---------------------------------------------------------------------------\u001b[0m",
            "\u001b[0;31mModuleNotFoundError\u001b[0m                       Traceback (most recent call last)",
            "\u001b[0;32m<ipython-input-21-b6cb6618e179>\u001b[0m in \u001b[0;36m<module>\u001b[0;34m()\u001b[0m\n\u001b[0;32m----> 1\u001b[0;31m \u001b[0;32mimport\u001b[0m \u001b[0mPyMuPDF\u001b[0m\u001b[0;34m\u001b[0m\u001b[0;34m\u001b[0m\u001b[0m\n\u001b[0m",
            "\u001b[0;31mModuleNotFoundError\u001b[0m: No module named 'PyMuPDF'",
            "",
            "\u001b[0;31m---------------------------------------------------------------------------\u001b[0;32m\nNOTE: If your import is failing due to a missing package, you can\nmanually install dependencies using either !pip or !apt.\n\nTo view examples of installing some common dependencies, click the\n\"Open Examples\" button below.\n\u001b[0;31m---------------------------------------------------------------------------\u001b[0m\n"
          ],
          "errorDetails": {
            "actions": [
              {
                "action": "open_url",
                "actionText": "Open Examples",
                "url": "/notebooks/snippets/importing_libraries.ipynb"
              }
            ]
          }
        }
      ]
    },
    {
      "cell_type": "code",
      "source": [
        ""
      ],
      "metadata": {
        "id": "uUM1P7ruhX-I"
      },
      "execution_count": null,
      "outputs": []
    }
  ]
}